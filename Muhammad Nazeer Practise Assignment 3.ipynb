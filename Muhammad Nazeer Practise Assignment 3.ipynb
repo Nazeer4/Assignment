{
 "cells": [
  {
   "cell_type": "markdown",
   "metadata": {},
   "source": [
    "# Q1:"
   ]
  },
  {
   "cell_type": "markdown",
   "metadata": {},
   "source": [
    "Think of at least three kinds of your favorite pizza. Store these pizza names in a list, and then use a for loop to print the name of each pizza."
   ]
  },
  {
   "cell_type": "code",
   "execution_count": 1,
   "metadata": {},
   "outputs": [],
   "source": [
    "pizzas = ['Cicken Tikka', 'Fajita', 'BarBQ']"
   ]
  },
  {
   "cell_type": "code",
   "execution_count": 7,
   "metadata": {},
   "outputs": [
    {
     "name": "stdout",
     "output_type": "stream",
     "text": [
      "My favorite pizza is: Cicken Tikka\n",
      "My favorite pizza is: Fajita\n",
      "My favorite pizza is: BarBQ\n"
     ]
    }
   ],
   "source": [
    "for pizza in pizzas:\n",
    "    print(\"My favorite pizza is: \" + pizza)"
   ]
  },
  {
   "cell_type": "code",
   "execution_count": null,
   "metadata": {},
   "outputs": [],
   "source": []
  },
  {
   "cell_type": "markdown",
   "metadata": {},
   "source": [
    "# Q2"
   ]
  },
  {
   "cell_type": "markdown",
   "metadata": {},
   "source": [
    "Start with your last question , Modify your for loop to print a sentence using the name of the pizza\n",
    "instead of printing just the name of the pizza. For each pizza you should\n",
    "have one line of output containing a simple statement like I like pepperoni\n",
    "pizza."
   ]
  },
  {
   "cell_type": "code",
   "execution_count": 71,
   "metadata": {},
   "outputs": [
    {
     "name": "stdout",
     "output_type": "stream",
     "text": [
      "I like Cicken Tikka pizza!\n",
      "I like Fajita pizza!\n",
      "I like BarBQ pizza!\n"
     ]
    }
   ],
   "source": [
    "pizzas = ['Cicken Tikka', 'Fajita', 'BarBQ']\n",
    "\n",
    "for pizza in pizzas:\n",
    "    print(\"I like \" + pizza + \" pizza!\")"
   ]
  },
  {
   "cell_type": "code",
   "execution_count": null,
   "metadata": {},
   "outputs": [],
   "source": []
  },
  {
   "cell_type": "code",
   "execution_count": null,
   "metadata": {},
   "outputs": [],
   "source": []
  },
  {
   "cell_type": "markdown",
   "metadata": {},
   "source": [
    "# Q3:"
   ]
  },
  {
   "cell_type": "markdown",
   "metadata": {},
   "source": [
    "Use a for loop to print the numbers from 1 to 20,\n",
    "inclusive."
   ]
  },
  {
   "cell_type": "code",
   "execution_count": 13,
   "metadata": {},
   "outputs": [
    {
     "name": "stdout",
     "output_type": "stream",
     "text": [
      "Number is - 1\n",
      "Number is - 2\n",
      "Number is - 3\n",
      "Number is - 4\n",
      "Number is - 5\n",
      "Number is - 6\n",
      "Number is - 7\n",
      "Number is - 8\n",
      "Number is - 9\n",
      "Number is - 10\n",
      "Number is - 11\n",
      "Number is - 12\n",
      "Number is - 13\n",
      "Number is - 14\n",
      "Number is - 15\n",
      "Number is - 16\n",
      "Number is - 17\n",
      "Number is - 18\n",
      "Number is - 19\n",
      "Number is - 20\n"
     ]
    }
   ],
   "source": [
    "for n in range(1,21):\n",
    "    print(f\"Number is - {n}\")"
   ]
  },
  {
   "cell_type": "code",
   "execution_count": null,
   "metadata": {},
   "outputs": [],
   "source": []
  },
  {
   "cell_type": "code",
   "execution_count": null,
   "metadata": {},
   "outputs": [],
   "source": []
  },
  {
   "cell_type": "markdown",
   "metadata": {},
   "source": [
    "# Q4:"
   ]
  },
  {
   "cell_type": "markdown",
   "metadata": {},
   "source": [
    "Use the third argument of the range() function to make a list\n",
    "of the odd numbers from 1 to 20. Use a for loop to print each number."
   ]
  },
  {
   "cell_type": "code",
   "execution_count": 78,
   "metadata": {},
   "outputs": [
    {
     "name": "stdout",
     "output_type": "stream",
     "text": [
      "Odd number is 1\n",
      "Odd number is 3\n",
      "Odd number is 5\n",
      "Odd number is 7\n",
      "Odd number is 9\n",
      "Odd number is 11\n",
      "Odd number is 13\n",
      "Odd number is 15\n",
      "Odd number is 17\n",
      "Odd number is 19\n"
     ]
    }
   ],
   "source": [
    "for n in range(1,21,2):\n",
    "    print(f\"Odd number is {n}\")\n",
    "    "
   ]
  },
  {
   "cell_type": "code",
   "execution_count": null,
   "metadata": {},
   "outputs": [],
   "source": []
  },
  {
   "cell_type": "code",
   "execution_count": null,
   "metadata": {},
   "outputs": [],
   "source": []
  },
  {
   "cell_type": "markdown",
   "metadata": {},
   "source": [
    "# Q5:"
   ]
  },
  {
   "cell_type": "markdown",
   "metadata": {},
   "source": [
    "Make a list of the multiples of 3 from 3 to 30. Use a for loop to\n",
    "print the numbers in your list."
   ]
  },
  {
   "cell_type": "code",
   "execution_count": 33,
   "metadata": {},
   "outputs": [
    {
     "name": "stdout",
     "output_type": "stream",
     "text": [
      "Multiples are [3]\n",
      "Multiples are [3, 6]\n",
      "Multiples are [3, 6, 9]\n",
      "Multiples are [3, 6, 9, 12]\n",
      "Multiples are [3, 6, 9, 12, 15]\n",
      "Multiples are [3, 6, 9, 12, 15, 18]\n",
      "Multiples are [3, 6, 9, 12, 15, 18, 21]\n",
      "Multiples are [3, 6, 9, 12, 15, 18, 21, 24]\n",
      "Multiples are [3, 6, 9, 12, 15, 18, 21, 24, 27]\n",
      "Multiples are [3, 6, 9, 12, 15, 18, 21, 24, 27, 30]\n"
     ]
    }
   ],
   "source": [
    "a = []\n",
    "for num in range(3,31):\n",
    "    if num % 3 == 0:\n",
    "        a.append(num)\n",
    "        print(f\"Multiples are {a}\")"
   ]
  },
  {
   "cell_type": "code",
   "execution_count": null,
   "metadata": {},
   "outputs": [],
   "source": []
  },
  {
   "cell_type": "code",
   "execution_count": null,
   "metadata": {},
   "outputs": [],
   "source": []
  },
  {
   "cell_type": "code",
   "execution_count": null,
   "metadata": {},
   "outputs": [],
   "source": []
  },
  {
   "cell_type": "markdown",
   "metadata": {},
   "source": [
    "# Q6:"
   ]
  },
  {
   "cell_type": "markdown",
   "metadata": {},
   "source": [
    "A number raised to the third power is called a cube. For example,\n",
    "the cube of 2 is written as 2**3 in Python. Make a list of the first 10 cubes (that\n",
    "is, the cube of each integer from 1 through 10), and use a for loop to print out\n",
    "the value of each cube"
   ]
  },
  {
   "cell_type": "code",
   "execution_count": 38,
   "metadata": {},
   "outputs": [
    {
     "name": "stdout",
     "output_type": "stream",
     "text": [
      "Cube of 1 is 1\n",
      "[1]\n",
      "Cube of 2 is 8\n",
      "[1, 8]\n",
      "Cube of 3 is 27\n",
      "[1, 8, 27]\n",
      "Cube of 4 is 64\n",
      "[1, 8, 27, 64]\n",
      "Cube of 5 is 125\n",
      "[1, 8, 27, 64, 125]\n",
      "Cube of 6 is 216\n",
      "[1, 8, 27, 64, 125, 216]\n",
      "Cube of 7 is 343\n",
      "[1, 8, 27, 64, 125, 216, 343]\n",
      "Cube of 8 is 512\n",
      "[1, 8, 27, 64, 125, 216, 343, 512]\n",
      "Cube of 9 is 729\n",
      "[1, 8, 27, 64, 125, 216, 343, 512, 729]\n",
      "Cube of 10 is 1000\n",
      "[1, 8, 27, 64, 125, 216, 343, 512, 729, 1000]\n"
     ]
    }
   ],
   "source": [
    "num = []\n",
    "for a in range(1,11):\n",
    "    val = a**3\n",
    "    print(f\"Cube of {a} is {val}\")\n",
    "    num.append(val)\n",
    "    print(num)"
   ]
  },
  {
   "cell_type": "code",
   "execution_count": null,
   "metadata": {},
   "outputs": [],
   "source": []
  },
  {
   "cell_type": "code",
   "execution_count": null,
   "metadata": {},
   "outputs": [],
   "source": []
  },
  {
   "cell_type": "code",
   "execution_count": null,
   "metadata": {},
   "outputs": [],
   "source": []
  },
  {
   "cell_type": "markdown",
   "metadata": {},
   "source": [
    "# Q7:"
   ]
  },
  {
   "cell_type": "markdown",
   "metadata": {},
   "source": [
    "###### Make a python program that conatains your nine favourite dishes in a list called foods.\n",
    "\n",
    "###### Print the message, The first three items in the list are:. \n",
    "###### Then use a slice to print the first three items from that program’s list.\n",
    "\n",
    "###### Print the message, Three items from the middle of the list are:\n",
    "###### Use a slice to print three items from the middle of the list.\n",
    "\n",
    "###### Print the message, The last three items in the list are:\n",
    "###### Use a slice to print the last three items in the list."
   ]
  },
  {
   "cell_type": "code",
   "execution_count": 12,
   "metadata": {},
   "outputs": [
    {
     "name": "stdout",
     "output_type": "stream",
     "text": [
      "Enter name of your favorite dish: Tikka\n",
      "List of Favorite dishes are: \n",
      " ['Tikka']\n",
      "Enter name of your favorite dish: Pulao\n",
      "List of Favorite dishes are: \n",
      " ['Tikka', 'Pulao']\n",
      "Enter name of your favorite dish: Biryani\n",
      "List of Favorite dishes are: \n",
      " ['Tikka', 'Pulao', 'Biryani']\n",
      "Enter name of your favorite dish: Haandi\n",
      "List of Favorite dishes are: \n",
      " ['Tikka', 'Pulao', 'Biryani', 'Haandi']\n",
      "Enter name of your favorite dish: Chargha\n",
      "List of Favorite dishes are: \n",
      " ['Tikka', 'Pulao', 'Biryani', 'Haandi', 'Chargha']\n",
      "Enter name of your favorite dish: Chinese\n",
      "List of Favorite dishes are: \n",
      " ['Tikka', 'Pulao', 'Biryani', 'Haandi', 'Chargha', 'Chinese']\n",
      "Enter name of your favorite dish: Mutton\n",
      "List of Favorite dishes are: \n",
      " ['Tikka', 'Pulao', 'Biryani', 'Haandi', 'Chargha', 'Chinese', 'Mutton']\n",
      "Enter name of your favorite dish: Pizza\n",
      "List of Favorite dishes are: \n",
      " ['Tikka', 'Pulao', 'Biryani', 'Haandi', 'Chargha', 'Chinese', 'Mutton', 'Pizza']\n",
      "Enter name of your favorite dish: Qourma\n",
      "List of Favorite dishes are: \n",
      " ['Tikka', 'Pulao', 'Biryani', 'Haandi', 'Chargha', 'Chinese', 'Mutton', 'Pizza', 'Qourma']\n",
      "The first three item in the list are: \n",
      "['Tikka', 'Pulao', 'Biryani']\n",
      "Three items from the middle of the list are: \n",
      "['Haandi', 'Chargha', 'Chinese']\n",
      "The last three items in the list are: \n",
      "['Mutton', 'Pizza', 'Qourma']\n"
     ]
    }
   ],
   "source": [
    "foods = []\n",
    "for a in range (1,10):\n",
    "    a = input(\"Enter name of your favorite dish: \")\n",
    "    foods.append(a)\n",
    "    print(\"List of Favorite dishes are: \\n\",foods)\n",
    "    \n",
    "print(\"The first three item in the list are: \")\n",
    "print(foods[0:3:1])\n",
    "\n",
    "print(\"Three items from the middle of the list are: \")\n",
    "print(foods[3:6:1])\n",
    "\n",
    "print(\"The last three items in the list are: \")\n",
    "print(foods[6:10:1])\n"
   ]
  },
  {
   "cell_type": "code",
   "execution_count": null,
   "metadata": {},
   "outputs": [],
   "source": []
  },
  {
   "cell_type": "code",
   "execution_count": null,
   "metadata": {},
   "outputs": [],
   "source": []
  },
  {
   "cell_type": "markdown",
   "metadata": {},
   "source": []
  },
  {
   "cell_type": "code",
   "execution_count": null,
   "metadata": {},
   "outputs": [],
   "source": []
  },
  {
   "cell_type": "code",
   "execution_count": null,
   "metadata": {},
   "outputs": [],
   "source": []
  },
  {
   "cell_type": "code",
   "execution_count": null,
   "metadata": {},
   "outputs": [],
   "source": []
  },
  {
   "cell_type": "code",
   "execution_count": null,
   "metadata": {},
   "outputs": [],
   "source": []
  },
  {
   "cell_type": "markdown",
   "metadata": {},
   "source": [
    "# Q8:"
   ]
  },
  {
   "cell_type": "markdown",
   "metadata": {},
   "source": [
    "### Start with your program from your last Question8.\n",
    "###### Make a copy of the list of foods, and call it friend_foods.\n",
    "###### Then, do the following:\n",
    "######    Add a new dish to the original list.\n",
    "######    Add a different dish to the list friend_foodss.\n",
    "######    Prove that you have two separate lists. \n",
    "###### Print the message, My favorite pizzas are: and then use a for loop to print the first list. \n",
    "###### Print the message,\n",
    "###### My friend’s favorite foods are:, and then use a for loop to print the second list.\n",
    "    \n",
    "##### NOTE: Make sure each new dish is stored in the appropriate list."
   ]
  },
  {
   "cell_type": "code",
   "execution_count": 64,
   "metadata": {},
   "outputs": [
    {
     "name": "stdout",
     "output_type": "stream",
     "text": [
      "Enter name of your favorite dish: Tikka\n",
      "List of Favorite dishes are: \n",
      " ['Tikka']\n",
      "Enter name of your favorite dish: Chicken\n",
      "List of Favorite dishes are: \n",
      " ['Tikka', 'Chicken']\n",
      "Enter name of your favorite dish: Biryani\n",
      "List of Favorite dishes are: \n",
      " ['Tikka', 'Chicken', 'Biryani']\n"
     ]
    }
   ],
   "source": [
    "foods = []\n",
    "for a in range (1,4):\n",
    "    a = input(\"Enter name of your favorite dish: \")\n",
    "    foods.append(a)\n",
    "    print(\"List of Favorite dishes are: \\n\",foods)"
   ]
  },
  {
   "cell_type": "code",
   "execution_count": 65,
   "metadata": {},
   "outputs": [
    {
     "name": "stdout",
     "output_type": "stream",
     "text": [
      "['Tikka', 'Chicken', 'Biryani']\n"
     ]
    }
   ],
   "source": [
    "#Copying foods in friend_foods\n",
    "\n",
    "friend_foods = foods.copy()\n",
    "print(friend_foods)"
   ]
  },
  {
   "cell_type": "code",
   "execution_count": 66,
   "metadata": {},
   "outputs": [
    {
     "name": "stdout",
     "output_type": "stream",
     "text": [
      "['Tikka', 'Chicken', 'Biryani', 'Pulao']\n"
     ]
    }
   ],
   "source": [
    "#Adding new dish to the original list\n",
    "\n",
    "foods.append('Pulao')\n",
    "print(foods)"
   ]
  },
  {
   "cell_type": "code",
   "execution_count": 67,
   "metadata": {},
   "outputs": [
    {
     "name": "stdout",
     "output_type": "stream",
     "text": [
      "['Tikka', 'Chicken', 'Biryani', 'Chinese']\n"
     ]
    }
   ],
   "source": [
    "#Adding new dish to the friend_food list\n",
    "\n",
    "friend_foods.append('Chinese')\n",
    "print(friend_foods)"
   ]
  },
  {
   "cell_type": "code",
   "execution_count": 68,
   "metadata": {},
   "outputs": [
    {
     "name": "stdout",
     "output_type": "stream",
     "text": [
      "My favorite foods are:  Tikka\n",
      "My favorite foods are:  Chicken\n",
      "My favorite foods are:  Biryani\n",
      "My favorite foods are:  Pulao\n"
     ]
    }
   ],
   "source": [
    "#Prinitng first list thorugh for loop\n",
    "\n",
    "for food in foods:\n",
    "    print(\"My favorite foods are: \",food)"
   ]
  },
  {
   "cell_type": "code",
   "execution_count": 69,
   "metadata": {},
   "outputs": [
    {
     "name": "stdout",
     "output_type": "stream",
     "text": [
      "My friend favorite foods are:  Tikka\n",
      "My friend favorite foods are:  Chicken\n",
      "My friend favorite foods are:  Biryani\n",
      "My friend favorite foods are:  Chinese\n"
     ]
    }
   ],
   "source": [
    "#Printing second list through fro loop\n",
    "\n",
    "for friend_food in friend_foods:\n",
    "        print(\"My friend favorite foods are: \",friend_food)"
   ]
  },
  {
   "cell_type": "code",
   "execution_count": null,
   "metadata": {},
   "outputs": [],
   "source": []
  },
  {
   "cell_type": "markdown",
   "metadata": {},
   "source": [
    "# Q9:"
   ]
  },
  {
   "cell_type": "markdown",
   "metadata": {},
   "source": [
    "Take a user input from console line.Store it in a variable called Alien_color.\n",
    "\n",
    "If the alien’s color is red, print a statement that the player just earned 5 points for shooting the alien.\n",
    "\n",
    "If the alien’s color isn’t green, print a statement that the player just earned 10 points.\n",
    "\n",
    "If the alien's color isn't red or green , print a statment :, Alien is no more....."
   ]
  },
  {
   "cell_type": "code",
   "execution_count": 81,
   "metadata": {},
   "outputs": [
    {
     "name": "stdout",
     "output_type": "stream",
     "text": [
      "Enter any color of your choice:\n",
      "blue\n",
      "Player just earned 10 points\n"
     ]
    }
   ],
   "source": [
    "Alien_color = (input(\"Enter any color of your choice:\\n\").lower())\n",
    "\n",
    "if Alien_color == 'red':\n",
    "    print(\"Player just earned 5 points for shooting the alien\")\n",
    "elif Alien_color != 'green':\n",
    "    print(\"Player just earned 10 points\")\n",
    "elif Alien_color != 'green' or Alien_color != 'red':\n",
    "    print(\"Alien is no more\")\n",
    "else:\n",
    "    print(\"You will soon win the game!\")"
   ]
  },
  {
   "cell_type": "code",
   "execution_count": null,
   "metadata": {},
   "outputs": [],
   "source": []
  },
  {
   "cell_type": "code",
   "execution_count": null,
   "metadata": {},
   "outputs": [],
   "source": []
  },
  {
   "cell_type": "code",
   "execution_count": null,
   "metadata": {},
   "outputs": [],
   "source": []
  },
  {
   "cell_type": "markdown",
   "metadata": {},
   "source": [
    "# Q10:"
   ]
  },
  {
   "cell_type": "markdown",
   "metadata": {},
   "source": [
    "Write an if-elif-else chain that determines a person’s\n",
    "stage of life. Set a value for the variable age, and then:\n",
    "    \n",
    "•\t If the person is less than 2 years old, print a message that the person is a baby.\n",
    "\n",
    "•\t If the person is at least 2 years old but less than 4, print a message that the person is a toddler.\n",
    "\n",
    "•\t If the person is at least 4 years old but less than 13, print a message that the person is a kid.\n",
    "\n",
    "•\t If the person is at least 13 years old but less than 20, print a message that the person is a teenager.\n",
    "\n",
    "•\t If the person is at least 20 years old but less than 65, print a message that the person is an adult.\n",
    "\n",
    "•\t If the person is age 65 or older, print a message that the person is an elder."
   ]
  },
  {
   "cell_type": "code",
   "execution_count": 52,
   "metadata": {},
   "outputs": [
    {
     "name": "stdout",
     "output_type": "stream",
     "text": [
      "Enter your age:\n",
      "55\n",
      "Person is an adult\n"
     ]
    }
   ],
   "source": [
    "age = int(input(\"Enter your age:\\n\"))\n",
    "if age < 2:\n",
    "    print(\"Person is baby.\")\n",
    "elif age == 2 or age < 4:\n",
    "    print(\"Person is toddler\")\n",
    "elif age == 4 or age < 13:\n",
    "    print(\"Person is a kid\")\n",
    "elif age == 13 or age < 20:\n",
    "    print(\"Person is a teenager\")\n",
    "elif age == 20 or age < 65:\n",
    "    print(\"Person is an adult\")\n",
    "elif age == 65 or age > 65:\n",
    "    print(\"Person is an elder\")\n",
    "else:\n",
    "    print(\"You have entered worng information\")"
   ]
  },
  {
   "cell_type": "code",
   "execution_count": null,
   "metadata": {},
   "outputs": [],
   "source": []
  },
  {
   "cell_type": "code",
   "execution_count": null,
   "metadata": {},
   "outputs": [],
   "source": []
  },
  {
   "cell_type": "code",
   "execution_count": null,
   "metadata": {},
   "outputs": [],
   "source": []
  },
  {
   "cell_type": "code",
   "execution_count": null,
   "metadata": {},
   "outputs": [],
   "source": []
  },
  {
   "cell_type": "code",
   "execution_count": null,
   "metadata": {},
   "outputs": [],
   "source": []
  },
  {
   "cell_type": "markdown",
   "metadata": {},
   "source": [
    "# Q11:"
   ]
  },
  {
   "cell_type": "markdown",
   "metadata": {},
   "source": [
    "Do the following to create a program that simulates how websites ensure that everyone has a unique username.\n",
    "\n",
    "•\t Make a list of five or more usernames called current_users.\n",
    "\n",
    "•\t Make another list of five usernames called new_users. \n",
    "Make sure one or two of the new usernames are also in the current_users list.\n",
    "\n",
    "•\t Loop through the new_users list to see if each new username has already been used. \n",
    "If it has, print a message that the person will need to enter a new username. \n",
    "If a username has not been used, print a message saying that the username is available.\n",
    "\n",
    "•\t Make sure your comparison is case insensitive. If 'John' has been used, 'JOHN' should not be accepted."
   ]
  },
  {
   "cell_type": "code",
   "execution_count": 25,
   "metadata": {},
   "outputs": [
    {
     "name": "stdout",
     "output_type": "stream",
     "text": [
      "Users are:  Sana\n",
      "Sana is available\n",
      "Users are:  Rida\n",
      "Rida is available\n",
      "Users are:  Nazeer\n",
      "Nazeer is not available, you need to enter a new name\n",
      "Users are:  Hassan\n",
      "Hassan is available\n",
      "Users are:  Taha\n",
      "Taha is not available, you need to enter a new name\n"
     ]
    }
   ],
   "source": [
    "current_users = ['Ali','Qasim','Ahmed','Nazeer','Taha']\n",
    "new_users = ['Sana','Rida','Nazeer','Hassan','Taha']\n",
    "\n",
    "for user in new_users:\n",
    "    print(\"Users are: \",user)\n",
    "    \n",
    "    if user in current_users:\n",
    "        print(f\"{user} is not available, you need to enter a new name\")\n",
    "    else:\n",
    "        print(f\"{user} is available\")"
   ]
  },
  {
   "cell_type": "code",
   "execution_count": null,
   "metadata": {},
   "outputs": [],
   "source": []
  },
  {
   "cell_type": "code",
   "execution_count": null,
   "metadata": {},
   "outputs": [],
   "source": []
  },
  {
   "cell_type": "code",
   "execution_count": null,
   "metadata": {},
   "outputs": [],
   "source": []
  },
  {
   "cell_type": "markdown",
   "metadata": {},
   "source": [
    "# Q12:"
   ]
  },
  {
   "cell_type": "markdown",
   "metadata": {},
   "source": [
    "Use a dictionary to store information about a person you know.\n",
    "Store their first name, last name, age, and the city in which they live. \n",
    "You should have keys such as first_name, last_name, age, and city. \n",
    "Print each piece of information stored in your dictionary"
   ]
  },
  {
   "cell_type": "code",
   "execution_count": 13,
   "metadata": {},
   "outputs": [],
   "source": [
    "person_info = {\n",
    "    \"first name\": \"Nazeer\",\n",
    "    \"last name\": \"Owais\",\n",
    "    \"age\":\"26\",\n",
    "    \"City\":\"Karachi\",\n",
    "}"
   ]
  },
  {
   "cell_type": "code",
   "execution_count": 16,
   "metadata": {},
   "outputs": [
    {
     "name": "stdout",
     "output_type": "stream",
     "text": [
      "Key is first name and value is Nazeer\n",
      "Key is last name and value is Owais\n",
      "Key is age and value is 26\n",
      "Key is City and value is Karachi\n"
     ]
    }
   ],
   "source": [
    "for k,v in person_info.items():\n",
    "    print(f\"Key is {k} and value is {v}\")"
   ]
  },
  {
   "cell_type": "code",
   "execution_count": null,
   "metadata": {},
   "outputs": [],
   "source": []
  },
  {
   "cell_type": "code",
   "execution_count": null,
   "metadata": {},
   "outputs": [],
   "source": []
  },
  {
   "cell_type": "markdown",
   "metadata": {},
   "source": [
    "# Q13:"
   ]
  },
  {
   "cell_type": "markdown",
   "metadata": {},
   "source": [
    "Starts with your last question 12 , loop through the dictionary’s keys and values.\n",
    "When you’re sure that your loop works, add five more Python terms to your\n",
    "dictionary . When you run your program again, these new words and meanings\n",
    "should automatically be included in the output."
   ]
  },
  {
   "cell_type": "code",
   "execution_count": 82,
   "metadata": {},
   "outputs": [
    {
     "name": "stdout",
     "output_type": "stream",
     "text": [
      "Before list: \n",
      "Key is first name and value is Nazeer\n",
      "\n",
      "Key is last name and value is Owais\n",
      "\n",
      "Key is age and value is 26\n",
      "\n",
      "Key is City and value is Karachi\n",
      "\n",
      "New Dictionary: \n",
      "\n",
      "{'first name': 'Nazeer', 'last name': 'Owais', 'age': '26', 'City': 'Karachi', 'Nick': 'Leo', 'Country': 'Pakistan'}\n"
     ]
    }
   ],
   "source": [
    "person_info = {\n",
    "    \"first name\": \"Nazeer\",\n",
    "    \"last name\": \"Owais\",\n",
    "    \"age\":\"26\",\n",
    "    \"City\":\"Karachi\",\n",
    "}\n",
    "\n",
    "print(\"Before list: \")\n",
    "for k,v in person_info.items():\n",
    "    \n",
    "    print(f\"Key is {k} and value is {v}\\n\")\n",
    "\n",
    "print(\"New Dictionary: \\n\")\n",
    "person_info [\"Nick\"] = \"Leo\"\n",
    "person_info [\"Country\"] = \"Pakistan\"\n",
    "print(person_info)"
   ]
  },
  {
   "cell_type": "code",
   "execution_count": null,
   "metadata": {},
   "outputs": [],
   "source": []
  },
  {
   "cell_type": "code",
   "execution_count": null,
   "metadata": {},
   "outputs": [],
   "source": []
  },
  {
   "cell_type": "code",
   "execution_count": null,
   "metadata": {},
   "outputs": [],
   "source": []
  },
  {
   "cell_type": "code",
   "execution_count": null,
   "metadata": {},
   "outputs": [],
   "source": []
  },
  {
   "cell_type": "markdown",
   "metadata": {},
   "source": [
    "# Q14:"
   ]
  },
  {
   "cell_type": "markdown",
   "metadata": {},
   "source": [
    "Make a dictionary containing three major rivers and the country\n",
    "each river runs through. One key-value pair might be 'nile': 'egypt'.\n",
    "    \n",
    "    \n",
    "•\t Use a loop to print a sentence about each river, such as The Nile runs\n",
    "through Egypt.\n",
    "\n",
    "NOTE: use upper case through keys and values."
   ]
  },
  {
   "cell_type": "code",
   "execution_count": 19,
   "metadata": {},
   "outputs": [
    {
     "name": "stdout",
     "output_type": "stream",
     "text": [
      "The PEARL runs through CHINA\n",
      "The LIWUNG runs through INDONESIA\n",
      "The MOSKVA runs through RUSSIA\n"
     ]
    }
   ],
   "source": [
    "rivers = {\n",
    "    'pearl': 'china',\n",
    "    'liwung':'indonesia',\n",
    "    'moskva':'russia',\n",
    "}\n",
    "\n",
    "for k,v in rivers.items():\n",
    "    print(\"The \" + k.upper() + \" runs through \" + v.upper())"
   ]
  },
  {
   "cell_type": "code",
   "execution_count": null,
   "metadata": {},
   "outputs": [],
   "source": []
  },
  {
   "cell_type": "code",
   "execution_count": null,
   "metadata": {},
   "outputs": [],
   "source": []
  },
  {
   "cell_type": "markdown",
   "metadata": {},
   "source": [
    "# Q15:"
   ]
  },
  {
   "cell_type": "markdown",
   "metadata": {},
   "source": [
    "Make several dictionaries, where the name of each dictionary is the\n",
    "name of a pet. In each dictionary, include the kind of animal and the owner’s\n",
    "name. Store these dictionaries in a list called pets. Next, loop through your list\n",
    "and as you do print everything you know about each pet."
   ]
  },
  {
   "cell_type": "code",
   "execution_count": 20,
   "metadata": {},
   "outputs": [
    {
     "name": "stdout",
     "output_type": "stream",
     "text": [
      "{'owner name': 'Jamal', 'price': '50000', 'kind': 'German Shepherd'}\n",
      "{'owner name': 'Ali', 'price': '65000', 'kind': 'Persian Cat'}\n",
      "{'owner name': 'Saad', 'price': '10000', 'kind': 'Marans'}\n",
      "{'owner name': 'Sajid', 'price': '15000', 'kind': 'Alaska'}\n"
     ]
    }
   ],
   "source": [
    "dog = {\n",
    "    \"owner name\":\"Jamal\",\n",
    "    \"price\":\"50000\",\n",
    "    \"kind\":\"German Shepherd\",\n",
    "}\n",
    "cat = {\n",
    "    \"owner name\":\"Ali\",\n",
    "    \"price\":\"65000\",\n",
    "    \"kind\":\"Persian Cat\"\n",
    "}\n",
    "chicken = {\n",
    "    \"owner name\":\"Saad\",\n",
    "    \"price\":\"10000\",\n",
    "    \"kind\":\"Marans\"\n",
    "}\n",
    "rabbit = {\n",
    "    \"owner name\":\"Sajid\",\n",
    "    \"price\":\"15000\",\n",
    "    \"kind\":\"Alaska\"\n",
    "}\n",
    "\n",
    "pets = [dog, cat, chicken, rabbit]\n",
    "for pet in pets:\n",
    "    print(pet)"
   ]
  },
  {
   "cell_type": "code",
   "execution_count": null,
   "metadata": {},
   "outputs": [],
   "source": []
  }
 ],
 "metadata": {
  "kernelspec": {
   "display_name": "Python 3",
   "language": "python",
   "name": "python3"
  },
  "language_info": {
   "codemirror_mode": {
    "name": "ipython",
    "version": 3
   },
   "file_extension": ".py",
   "mimetype": "text/x-python",
   "name": "python",
   "nbconvert_exporter": "python",
   "pygments_lexer": "ipython3",
   "version": "3.7.3"
  }
 },
 "nbformat": 4,
 "nbformat_minor": 2
}
